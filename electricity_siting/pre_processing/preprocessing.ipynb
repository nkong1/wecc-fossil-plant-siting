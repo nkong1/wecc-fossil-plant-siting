{
 "cells": [
  {
   "cell_type": "markdown",
   "id": "c23a23b4",
   "metadata": {},
   "source": [
    "Filter any candidates that are co-located with a substation and coal candidates that overlap with their feedstock sources (we ignore any overlap between natural gas plants and their feedstock sources because pipelines are typically located underground). Additionally, standardize the columns for the distance to the feedstock source."
   ]
  },
  {
   "cell_type": "code",
   "execution_count": null,
   "id": "347fc665",
   "metadata": {},
   "outputs": [
    {
     "name": "stdout",
     "output_type": "stream",
     "text": [
      "Saved gas_cc.gpkg to /Users/nicholaskong/Desktop/REAM_lab/hydrogen_siting/electricity_siting/final_candidates\n",
      "Saved gas_cc_ccs.gpkg to /Users/nicholaskong/Desktop/REAM_lab/hydrogen_siting/electricity_siting/final_candidates\n",
      "Saved coal_igcc.gpkg to /Users/nicholaskong/Desktop/REAM_lab/hydrogen_siting/electricity_siting/final_candidates\n",
      "Saved coal_igcc_ccs.gpkg to /Users/nicholaskong/Desktop/REAM_lab/hydrogen_siting/electricity_siting/final_candidates\n"
     ]
    }
   ],
   "source": [
    "import geopandas as gpd\n",
    "from pathlib import Path\n",
    "import pandas as pd \n",
    "\n",
    "electricity_processing_dir = Path.cwd() # pre-processing path\n",
    "\n",
    "input_candidates_path = electricity_processing_dir / 'candidates'\n",
    "\n",
    "output_candidates_path = electricity_processing_dir.parent / 'inputs' / 'final_candidates'\n",
    "output_candidates_path.mkdir(exist_ok=True)\n",
    "\n",
    "for generator_file in input_candidates_path.glob('*gpkg'):\n",
    "    gen_tech = generator_file.stem\n",
    "\n",
    "    candidates_gdf = gpd.read_file(generator_file)\n",
    "\n",
    "    candidates_gdf = candidates_gdf[candidates_gdf['dist_to_substation_meters'] != 0]\n",
    "\n",
    "    if 'coal' in gen_tech:\n",
    "        candidates_gdf.rename(columns={'dist_to_coal_meters': 'dist_to_feedstock_meters'}, inplace=True)\n",
    "        candidates_gdf = candidates_gdf[candidates_gdf['dist_to_feedstock_meters'] != 0]\n",
    "\n",
    "    elif 'gas' in gen_tech:\n",
    "        candidates_gdf.rename(columns={'dist_to_pipeline_meters': 'dist_to_feedstock_meters'}, inplace=True)\n",
    "\n",
    "    candidates_gdf.to_file(output_candidates_path / f'{gen_tech}.gpkg', driver='GPKG')\n",
    "    print(f'Saved {gen_tech}.gpkg to {output_candidates_path}')"
   ]
  },
  {
   "cell_type": "markdown",
   "id": "1bfbf316",
   "metadata": {},
   "source": [
    "Calculate the potential for each technology in each load zone."
   ]
  },
  {
   "cell_type": "code",
   "execution_count": 9,
   "id": "9969ea99",
   "metadata": {},
   "outputs": [],
   "source": [
    "# Define a dictionary mapping each electricity generating technology to its reference nameplate capacity (MW)\n",
    "ref_capacity = {\n",
    "    \"gas_cc\": 1009,\n",
    "    \"gas_cc_ccs\": 943.5,\n",
    "    \"coal_igcc\": 764.3,\n",
    "    \"coal_igcc_ccs\": 707.7,\n",
    "}"
   ]
  },
  {
   "cell_type": "code",
   "execution_count": 13,
   "id": "a6285eb9",
   "metadata": {},
   "outputs": [],
   "source": [
    "# Create helper function that calculates the potential capacity per load zone for a given tech\n",
    "def get_potential_MW(candidates_gdf, tech_name, ref_capacity_MW):\n",
    "    \"\"\"\n",
    "    Inputs: \n",
    "    - candidates_gdf: the gdf of candidate sites for the given tech(s)\n",
    "    - tech_name: the hydrogen production technology that the layer is for\n",
    "    - ref_capacity: the reference capacity of the candidate (MW)\n",
    "\n",
    "    Outputs:\n",
    "    - df: a df with the potential capacity per tech by load zone, structured with the following columns:\n",
    "        - LOAD_AREA, gen_tech, site_count, potential_MW\n",
    "    \"\"\"\n",
    "\n",
    "    # Count the number of candidate sites in each load zone\n",
    "    count_by_load_area = candidates_gdf.groupby(\"LOAD_AREA\").size().reset_index(name=\"site_count\")\n",
    "\n",
    "    # Add a gen_tech column\n",
    "    count_by_load_area[\"gen_tech\"] = tech_name\n",
    "\n",
    "    # Calculate total potential capacity in each load zone\n",
    "    count_by_load_area[\"potential_MW\"] = (count_by_load_area[\"site_count\"] * ref_capacity_MW).astype(int)\n",
    "\n",
    "    return count_by_load_area"
   ]
  },
  {
   "cell_type": "code",
   "execution_count": null,
   "id": "a1fde33a",
   "metadata": {},
   "outputs": [
    {
     "name": "stdout",
     "output_type": "stream",
     "text": [
      "Saved technology capacity by load zone to /Users/nicholaskong/Desktop/REAM_lab/hydrogen_siting/electricity_siting/gen_tech_potentials.csv\n"
     ]
    }
   ],
   "source": [
    "# Create a running list of potential capacity\n",
    "output_df = pd.DataFrame()\n",
    "\n",
    "# Import the .shp file of load zones\n",
    "load_zones_gdf = gpd.read_file(electricity_processing_dir / 'load_zones' / 'load_zones.shp')\n",
    "\n",
    "# Load final suitable candidate sites for each technology and calculate potential capacity by load zone\n",
    "for tech_file in output_candidates_path.glob(\"*.gpkg\"):\n",
    "    gdf = gpd.read_file(tech_file)\n",
    "    tech_name = tech_file.stem\n",
    "\n",
    "    nameplate_capacity = ref_capacity[tech_name]\n",
    "\n",
    "    # Call the helper function to get a df containing the potential of the current tech in each load zone\n",
    "    potential_df = get_potential_MW(gdf, tech_name, nameplate_capacity)\n",
    "    \n",
    "    # Append to output DataFrame\n",
    "    output_df = pd.concat([output_df, potential_df], ignore_index=True)\n",
    "\n",
    "# Fill in missing (LOAD_AREA, gen_tech) with 0 \n",
    "load_areas = pd.Series(load_zones_gdf[\"LOAD_AREA\"].unique(), name=\"LOAD_AREA\")\n",
    "gen_techs = pd.Series(output_df[\"gen_tech\"].unique(), name=\"gen_tech\")\n",
    "\n",
    "# Cartesian product without itertools: use merge on dummy key\n",
    "all_combos = (\n",
    "    load_areas.to_frame().assign(key=1)\n",
    "    .merge(gen_techs.to_frame().assign(key=1), on=\"key\")\n",
    "    .drop(\"key\", axis=1)\n",
    ")\n",
    "\n",
    "# Merge with actual data\n",
    "output_df = (\n",
    "    all_combos\n",
    "    .merge(output_df, on=[\"LOAD_AREA\", \"gen_tech\"], how=\"left\")\n",
    "    .fillna(0)\n",
    ")\n",
    "\n",
    "# Sort\n",
    "output_df = output_df.sort_values(by=[\"LOAD_AREA\", \"gen_tech\"]).reset_index(drop=True)\n",
    "\n",
    "\n",
    "# Save\n",
    "output_csv_path = electricity_processing_dir.parent / 'inputs' / \"gen_tech_potentials.csv\"\n",
    "output_df.to_csv(output_csv_path, index=False)\n",
    "print(f\"Saved technology capacity by load zone to {output_csv_path}\")\n"
   ]
  },
  {
   "cell_type": "code",
   "execution_count": null,
   "id": "82819827",
   "metadata": {},
   "outputs": [],
   "source": []
  }
 ],
 "metadata": {
  "kernelspec": {
   "display_name": "base",
   "language": "python",
   "name": "python3"
  },
  "language_info": {
   "codemirror_mode": {
    "name": "ipython",
    "version": 3
   },
   "file_extension": ".py",
   "mimetype": "text/x-python",
   "name": "python",
   "nbconvert_exporter": "python",
   "pygments_lexer": "ipython3",
   "version": "3.12.2"
  }
 },
 "nbformat": 4,
 "nbformat_minor": 5
}

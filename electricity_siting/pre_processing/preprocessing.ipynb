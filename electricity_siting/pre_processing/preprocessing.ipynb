{
 "cells": [
  {
   "cell_type": "markdown",
   "id": "c23a23b4",
   "metadata": {},
   "source": [
    "Filter any candidates that are co-located with a substation and coal candidates that overlap with their feedstock sources (we ignore any overlap between natural gas plants and their feedstock sources because pipelines are typically located underground). Additionally, standardize the columns for the distance to the feedstock source."
   ]
  },
  {
   "cell_type": "code",
   "execution_count": 7,
   "id": "347fc665",
   "metadata": {},
   "outputs": [
    {
     "name": "stdout",
     "output_type": "stream",
     "text": [
      "Saved gas_cc.gpkg to /Users/nicholaskong/Desktop/REAM_lab/hydrogen_siting/electricity_siting/final_candidates\n",
      "Saved gas_cc_ccs.gpkg to /Users/nicholaskong/Desktop/REAM_lab/hydrogen_siting/electricity_siting/final_candidates\n",
      "Saved coal_igcc.gpkg to /Users/nicholaskong/Desktop/REAM_lab/hydrogen_siting/electricity_siting/final_candidates\n",
      "Saved coal_igcc_ccs.gpkg to /Users/nicholaskong/Desktop/REAM_lab/hydrogen_siting/electricity_siting/final_candidates\n"
     ]
    }
   ],
   "source": [
    "import geopandas as gpd\n",
    "from pathlib import Path\n",
    "\n",
    "electricity_siting_dir = Path.cwd() # pre-processing path\n",
    "\n",
    "input_candidates_path = electricity_siting_dir / 'candidates'\n",
    "\n",
    "output_candidates_path = electricity_siting_dir.parent / 'final_candidates'\n",
    "output_candidates_path.mkdir(exist_ok=True)\n",
    "\n",
    "for generator_file in input_candidates_path.glob('*gpkg'):\n",
    "    gen_tech = generator_file.stem\n",
    "\n",
    "    candidates_gdf = gpd.read_file(generator_file)\n",
    "\n",
    "    candidates_gdf = candidates_gdf[candidates_gdf['dist_to_substation_meters'] != 0]\n",
    "\n",
    "    if 'coal' in gen_tech:\n",
    "        candidates_gdf.rename(columns={'dist_to_coal_meters': 'dist_to_feedstock_meters'}, inplace=True)\n",
    "        candidates_gdf = candidates_gdf[candidates_gdf['dist_to_feedstock_meters'] != 0]\n",
    "\n",
    "    elif 'gas' in gen_tech:\n",
    "        candidates_gdf.rename(columns={'dist_to_pipeline_meters': 'dist_to_feedstock_meters'}, inplace=True)\n",
    "\n",
    "    candidates_gdf.to_file(output_candidates_path / f'{gen_tech}.gpkg', driver='GPKG')\n",
    "    print(f'Saved {gen_tech}.gpkg to {output_candidates_path}')"
   ]
  },
  {
   "cell_type": "code",
   "execution_count": null,
   "id": "ac9bd1af",
   "metadata": {},
   "outputs": [],
   "source": []
  }
 ],
 "metadata": {
  "kernelspec": {
   "display_name": "base",
   "language": "python",
   "name": "python3"
  },
  "language_info": {
   "codemirror_mode": {
    "name": "ipython",
    "version": 3
   },
   "file_extension": ".py",
   "mimetype": "text/x-python",
   "name": "python",
   "nbconvert_exporter": "python",
   "pygments_lexer": "ipython3",
   "version": "3.12.2"
  }
 },
 "nbformat": 4,
 "nbformat_minor": 5
}
